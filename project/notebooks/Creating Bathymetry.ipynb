{
 "cells": [
  {
   "cell_type": "markdown",
   "id": "be203622-898b-4c5b-a288-3d999aca6a8f",
   "metadata": {},
   "source": [
    "# Creating the Bathymetry\n",
    "\n",
    "First, import packages to re-create and visualize the model grid here:"
   ]
  },
  {
   "cell_type": "code",
   "execution_count": 1,
   "id": "6b436462-d351-4c2c-81ba-84ff9efa39aa",
   "metadata": {},
   "outputs": [
    {
     "name": "stdout",
     "output_type": "stream",
     "text": [
      "Intel MKL WARNING: Support of Intel(R) Streaming SIMD Extensions 4.2 (Intel(R) SSE4.2) enabled only processors has been deprecated. Intel oneAPI Math Kernel Library 2025.0 will require Intel(R) Advanced Vector Extensions (Intel(R) AVX) instructions.\n",
      "Intel MKL WARNING: Support of Intel(R) Streaming SIMD Extensions 4.2 (Intel(R) SSE4.2) enabled only processors has been deprecated. Intel oneAPI Math Kernel Library 2025.0 will require Intel(R) Advanced Vector Extensions (Intel(R) AVX) instructions.\n"
     ]
    }
   ],
   "source": [
    "import numpy as np\n",
    "from scipy.interpolate import griddata\n",
    "import matplotlib.pyplot as plt\n",
    "import netCDF4 as nc4"
   ]
  },
  {
   "cell_type": "markdown",
   "id": "e6c8d133-c843-4b34-9e66-0ec27bac032e",
   "metadata": {},
   "source": [
    "### Bathymetry Source File¶\n",
    "\n",
    "I acquired the a subset of the global GEBCO bathymetry grid, to generate my model's bathymetry, with the bounds -76 to -59 W in longitude and 26 to 50 N in latitude. I then stored the bathymetry as GEBCO_Bathymetry_EastCoast.nc."
   ]
  },
  {
   "cell_type": "markdown",
   "id": "ceed6a0b-3f5a-454a-a02e-d52798a08552",
   "metadata": {},
   "source": [
    "### Interpolating Bathymetry onto the Model Domain"
   ]
  },
  {
   "cell_type": "code",
   "execution_count": 2,
   "id": "89e207de-5e1d-4d08-8d7b-84797d8441c7",
   "metadata": {},
   "outputs": [],
   "source": [
    "# read in the bathymetry grid\n",
    "file_path = 'GEBCO_Bathymetry_EastCoast.nc'\n",
    "ds = nc4.Dataset(file_path)\n",
    "gebco_lon = ds.variables['lon'][:]\n",
    "gebco_lat = ds.variables['lat'][:]\n",
    "Gebco_bathy = ds.variables['elevation'][:]\n",
    "ds.close()\n",
    "\n",
    "# create a meshgrid of the lon and lat\n",
    "Gebco_Lon, Gebco_Lat = np.meshgrid(gebco_lon, gebco_lat)"
   ]
  },
  {
   "cell_type": "code",
   "execution_count": 3,
   "id": "b6218171-2355-44f1-bc02-fc6da8d5ac42",
   "metadata": {},
   "outputs": [],
   "source": [
    "# recreate the model grid\n",
    "delX = 1/12\n",
    "delY = 1/16\n",
    "xgOrigin = -75\n",
    "ygOrigin = 26\n",
    "n_rows = 360\n",
    "n_cols = 240\n",
    "\n",
    "xc = np.arange(xgOrigin+delX/2, xgOrigin+n_cols*delX, delX)\n",
    "yc = np.arange(ygOrigin+delY/2, ygOrigin+n_rows*delY, delY)\n",
    "XC, YC = np.meshgrid(xc, yc)"
   ]
  },
  {
   "cell_type": "code",
   "execution_count": 4,
   "id": "6408f99c-286b-43ce-a310-b75e390f5c52",
   "metadata": {},
   "outputs": [],
   "source": [
    "# interpolate the gebco data onto the model grid\n",
    "Model_bathy = griddata(np.column_stack([Gebco_Lon.ravel(),Gebco_Lat.ravel()]), Gebco_bathy.ravel(), (XC, YC), method='nearest')"
   ]
  },
  {
   "cell_type": "code",
   "execution_count": 5,
   "id": "de63df9e-2086-4e9e-871f-0a5f479414c1",
   "metadata": {},
   "outputs": [],
   "source": [
    "# set points on land to 0\n",
    "Model_bathy[Model_bathy>0] = 0"
   ]
  },
  {
   "cell_type": "markdown",
   "id": "1d87b3e6-f8a0-45b2-ad18-50cc0b18d67c",
   "metadata": {},
   "source": [
    "### Plotting the Bathymetry Grid"
   ]
  },
  {
   "cell_type": "code",
   "execution_count": null,
   "id": "55de45e8-3c76-490c-87d5-b900e5a32f7e",
   "metadata": {},
   "outputs": [],
   "source": [
    "plt.figure(figsize=(10,5))\n",
    "\n",
    "plt.subplot(1,2,1)\n",
    "C = plt.pcolormesh(Gebco_Lon, Gebco_Lat, Gebco_bathy, vmin=-5000, vmax=0, cmap='Blues_r')\n",
    "plt.colorbar(C, orientation = 'horizontal')\n",
    "plt.title('GEBCO Bathymetry')\n",
    "\n",
    "plt.subplot(1,2,2)\n",
    "C = plt.pcolormesh(XC, YC, Model_bathy, vmin=-5000, vmax=0, cmap='Blues_r')\n",
    "plt.colorbar(C, orientation = 'horizontal')\n",
    "plt.title('Model Bathymetry')\n",
    "\n",
    "plt.show()"
   ]
  },
  {
   "cell_type": "markdown",
   "id": "2f0b49ab-045e-42e7-8e3c-60bdd4a8835e",
   "metadata": {},
   "source": [
    "### Checking for Isolated Regions"
   ]
  },
  {
   "cell_type": "code",
   "execution_count": null,
   "id": "2d83037e-8d8a-4260-9197-d1422032e374",
   "metadata": {},
   "outputs": [],
   "source": [
    "plt.figure(figsize=(6,4))\n",
    "\n",
    "C = plt.pcolormesh(Model_bathy, vmin=-1, vmax=0, cmap='Blues_r')\n",
    "plt.colorbar(C)\n",
    "plt.title('Model Bathymetry ')\n",
    "\n",
    "plt.show()"
   ]
  },
  {
   "cell_type": "markdown",
   "id": "4178c273-8a16-4534-bfa7-e8dd1e543df0",
   "metadata": {},
   "source": [
    "There were no specific regions in my model that I needed to adress so I did not fill in unconnected land."
   ]
  },
  {
   "cell_type": "markdown",
   "id": "ccf53801-85cd-4176-b86e-f77f4cf96d6b",
   "metadata": {},
   "source": [
    "### Saving the Bathymetry File"
   ]
  },
  {
   "cell_type": "code",
   "execution_count": null,
   "id": "bf5b493b-30ce-4605-be7b-3b0a8104565a",
   "metadata": {},
   "outputs": [],
   "source": [
    "output_file = 'EastCoast_bathymetry.bin'\n",
    "Model_bathy.ravel('C').astype('>f4').tofile(output_file)"
   ]
  }
 ],
 "metadata": {
  "kernelspec": {
   "display_name": "cs185c",
   "language": "python",
   "name": "cs185c"
  },
  "language_info": {
   "codemirror_mode": {
    "name": "ipython",
    "version": 3
   },
   "file_extension": ".py",
   "mimetype": "text/x-python",
   "name": "python",
   "nbconvert_exporter": "python",
   "pygments_lexer": "ipython3",
   "version": "3.11.9"
  }
 },
 "nbformat": 4,
 "nbformat_minor": 5
}
