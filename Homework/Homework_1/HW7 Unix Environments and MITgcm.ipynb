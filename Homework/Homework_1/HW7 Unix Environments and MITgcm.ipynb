{
 "cells": [
  {
   "cell_type": "markdown",
   "id": "37679f9c-30c1-40cc-b08e-fc1421cbd736",
   "metadata": {},
   "source": [
    "# Homework 7: Unix Environments and MITgcm\n",
    "\n",
    "Name: Sofia Mohammed\n",
    "\n",
    "Date: 09/08/2024\n",
    "\n",
    "#### Overview\n",
    "In this homework, you will install a Fortran compiler, download a recent version of the MIT General Circulation Model source code, and compile a verification model experiment."
   ]
  },
  {
   "cell_type": "markdown",
   "id": "7889a949-9cac-41cd-8619-86e296e28d57",
   "metadata": {},
   "source": [
    "### Part 1: Download a Compiler\n",
    "To start this homework, begin by installing a Fortran compiler on your machine by following the instructions [HERE](https://profmikewood.github.io/ocean_modeling_book/getting_started/installing_compiler_and_mpi.html). Note that there are different installation instructions depending on whether your machine is a Mac or a PC. You do not need to complete the portion for using MPI at this time.\n",
    "\n",
    "When your download is complete, edit the following cell to outline which option you chose."
   ]
  },
  {
   "cell_type": "markdown",
   "id": "361bf69d-301c-4659-9195-0a6f21b06416",
   "metadata": {},
   "source": [
    "I am using a Mac machine with a the Mac operation system. I downloaded the gcc fortran compiler."
   ]
  },
  {
   "cell_type": "markdown",
   "id": "1cb79dc8-5d71-4126-b851-3af0c3a44027",
   "metadata": {},
   "source": [
    "### Part 2: Unix Commands\n",
    "Answer the following questions about Unix commands and their output on your machine. When you enter your Unix commands below, you can make a markdown code block using three ` symbols as follows:\n",
    "\n",
    "```\n",
    "unix code\n",
    "```"
   ]
  },
  {
   "cell_type": "markdown",
   "id": "520ecb33",
   "metadata": {},
   "source": [
    "Question 2.1: What is the path to your home directory? Enter the command you use to identify this directory and list the path."
   ]
  },
  {
   "cell_type": "markdown",
   "id": "330a1efa-e39e-4150-85e6-e9da7bb08ff4",
   "metadata": {},
   "source": [
    "/Users/sofia"
   ]
  },
  {
   "cell_type": "markdown",
   "id": "5bfe013c-d8a8-4825-ad33-34018d69b438",
   "metadata": {},
   "source": [
    "pwd"
   ]
  },
  {
   "cell_type": "markdown",
   "id": "2ae6dfdb-5ec6-4146-8dd5-69907509507b",
   "metadata": {},
   "source": [
    "Question 2.2: What is your default \"profile script\" on your machine? What command can you use to list the hidden files in your home directory?"
   ]
  },
  {
   "cell_type": "markdown",
   "id": "73324902-d5c6-4621-8fc6-b47c4ffc99ec",
   "metadata": {},
   "source": [
    ".zshrc"
   ]
  },
  {
   "cell_type": "markdown",
   "id": "23a3994d-bd85-45d3-9690-48b5489441c5",
   "metadata": {},
   "source": [
    "ls -a"
   ]
  },
  {
   "cell_type": "markdown",
   "id": "7ff6aefc",
   "metadata": {},
   "source": [
    "Question 2.3: Change your directory to the folder that you use to store files for this CS 185C class. Enter the commands you entered to move to this directory."
   ]
  },
  {
   "cell_type": "markdown",
   "id": "ab798e5b-0a57-44be-99d7-bb0f7bebb0ca",
   "metadata": {},
   "source": [
    "cd Documents/CS185C"
   ]
  },
  {
   "cell_type": "markdown",
   "id": "a7dca3ed",
   "metadata": {},
   "source": [
    "### Part 3: MITgcm\n",
    "In this section, you will download a recent version of MITgcm. In your CS 185C directory, run the following command:\n",
    "\n",
    "```\n",
    "git clone https://github.com/MITgcm/MITgcm.git\n",
    "```\n",
    "\n",
    "This will clone the MITgcm code into your CS 185C repository next to other directories you have e.g. homework, project, etc. When your clone is complete, change directories into the MITgcm directory."
   ]
  },
  {
   "cell_type": "markdown",
   "id": "db1bc848-211a-476b-91e0-f8c9826341cd",
   "metadata": {},
   "source": [
    "The model source code is listed in the `model/src` directory. Enter a Unix command to list all of the files in this directory. Then, based on the file names, identify one script that aligns with a topic we have covered so far in CS 185C. What do you suppose this script will do in the model?"
   ]
  },
  {
   "cell_type": "markdown",
   "id": "007a49b5-8ba2-4055-aefc-d3ffe7abba69",
   "metadata": {},
   "source": [
    "One script we have covered in CS 185C is finding rho, to identify density. I believe the script will calculate density through salinity, temperature, and pressure."
   ]
  },
  {
   "cell_type": "markdown",
   "id": "775df175",
   "metadata": {},
   "source": [
    "### Part 4: Compile a Model Tutorial"
   ]
  },
  {
   "cell_type": "markdown",
   "id": "1e2c4b43",
   "metadata": {},
   "source": [
    "Next, change your directory to the the `verification/tutorial_barotropic_gyre` directory and follow the instructions to compile a model *without* MPI [HERE](https://profmikewood.github.io/ocean_modeling_book/mitgcm/getting_started_with_MITgcm.html#compiling-without-mpi) for the barotropic gyre verification experiment.\n",
    "\n",
    "Note that you will need to identify the \"optfile\" for your machine. Notes on identifying this file are [HERE](https://profmikewood.github.io/ocean_modeling_book/mitgcm/choosing_an_optfile.html).\n",
    "\n",
    "When the compilation is complete, you should see the `mitgcmuv` (or `mitgcmuv.exe`) file in your `build` directory. Enter the command below you used to verify this file exists."
   ]
  },
  {
   "cell_type": "markdown",
   "id": "793b6c4a-f845-48e5-8127-f21fbf76ce0c",
   "metadata": {},
   "source": [
    "ls mitgcmuv"
   ]
  },
  {
   "cell_type": "markdown",
   "id": "6f1d01cb",
   "metadata": {},
   "source": [
    "If your compilation is successful - woohoo! We'll work on running the model and assessing the output in class after this homework is due."
   ]
  }
 ],
 "metadata": {
  "kernelspec": {
   "display_name": "cs185c",
   "language": "python",
   "name": "cs185c"
  },
  "language_info": {
   "codemirror_mode": {
    "name": "ipython",
    "version": 3
   },
   "file_extension": ".py",
   "mimetype": "text/x-python",
   "name": "python",
   "nbconvert_exporter": "python",
   "pygments_lexer": "ipython3",
   "version": "3.11.9"
  }
 },
 "nbformat": 4,
 "nbformat_minor": 5
}
