{
 "cells": [
  {
   "cell_type": "markdown",
   "id": "8244c2b7-85a6-4671-92bd-912fcf4ffe0f",
   "metadata": {},
   "source": [
    "# Homework 3: Visualizing Data with Movies\n",
    "\n",
    "Name: Sofia Mohammed\n",
    "\n",
    "Date: 09/19/2024 \n",
    "\n",
    "#### Overview\n",
    "In this homework, you'll create a movie visualization of a model parameter such as temperature, salinity, velocity, or any other field which may be of interest to you. \n",
    "\n",
    "As an example, I've provided a movie of circulation in the Equatorial Pacific from the NASA ECCO Version 5 State Estimate. For the purposes of this visualization, I subsetted the Equatorial Pacific is the region between 155-75$^{\\circ}$W and $\\pm$20$^{\\circ}$N.\n",
    "\n",
    "#### Import Modules\n",
    "Import the modules required to access data from netCDF files, plot it, and stitch panels together into a movie:"
   ]
  },
  {
   "cell_type": "code",
   "execution_count": null,
   "id": "252facb6-dc40-472b-a94a-2567f0ade2cd",
   "metadata": {},
   "outputs": [],
   "source": [
    "# import modules here\n",
    "import os\n",
    "import numpy as np\n",
    "import matplotlib.pyplot as plt\n",
    "import netCDF4 as nc4\n",
    "import moviepy.video.io.ImageSequenceClip\n",
    "import xarray as xr"
   ]
  },
  {
   "cell_type": "markdown",
   "id": "b25f3da4-1768-4178-9604-0a6888e75ed7",
   "metadata": {},
   "source": [
    "## Part 1: Download Data\n",
    "To begin this exercise, download all of the available data for your variable of interest over the timespan of interest.\n",
    "\n",
    "For the example provided, I've used daily sea surface temperature data for a given year (2015) from the ECCO Version 5 Alpha output [HERE](https://ecco.jpl.nasa.gov/drive/files/Version5/Alpha/latlon_daily/SST.nc).\n",
    "\n",
    "To obtain your data, use the [Downloading ECCO Data](https://github.com/ProfMikeWood/ocean_modeling_book/blob/main/tools/Downloading%20ECCO%20Data.ipynb) notebook provided with the course notes. Be sure to edit the fields to obtain the correct data."
   ]
  },
  {
   "cell_type": "code",
   "execution_count": null,
   "id": "9c8cd8aa-0988-4339-9352-f07de5e65af8",
   "metadata": {},
   "outputs": [],
   "source": [
    "# define the path to the data folder\n",
    "data_folder = '/Users/sofia/Documents/CS185C/Data'"
   ]
  },
  {
   "cell_type": "markdown",
   "id": "8926c19c-ad19-419b-b2d9-6f7a1f7f8989",
   "metadata": {},
   "source": [
    "## Part 2: Create a Single Plot of Sea Surface Temperature\n",
    "Before making a movie, its useful to fine tune a single plot to get the details right. Once you've got your plot lookin' good, you can loop through all of the data to generate the panels of your movie.\n",
    "\n",
    "Here, make a plot of one variable field. \n",
    "\n",
    "Begin by reading in the longitude, latitude, and SST fields from the netCDF file:"
   ]
  },
  {
   "cell_type": "code",
   "execution_count": null,
   "id": "460707c9-cbc9-45bd-9c5d-401e2dd9855c",
   "metadata": {},
   "outputs": [],
   "source": [
    "# read in the data\n",
    "ds = xr.open_dataset(data_folder + '/ECCO/Version5/Alpha/latlon_daily/SST.nc/SST_20150101.nc', decode_times=False)\n",
    "longitude = np.array(ds['LONGITUDE_T'][:])\n",
    "latitude = np.array(ds['LATITUDE_T'][:])\n",
    "SST = np.array(ds['SST'][:])\n",
    "ds.close()"
   ]
  },
  {
   "cell_type": "markdown",
   "id": "246d635f-ccd8-4ee8-af9e-3e06739117a8",
   "metadata": {},
   "source": [
    "Next, find the locations of the longitude and latitude bounds within the global grid for your region of interest:"
   ]
  },
  {
   "cell_type": "code",
   "execution_count": null,
   "id": "68efce84-b214-4882-8c10-0382c9e31171",
   "metadata": {},
   "outputs": [],
   "source": [
    "# define the longitude/latitude bounds\n",
    "min_lon = -155\n",
    "max_lon = -75\n",
    "min_lat = -20\n",
    "max_lat = 20\n",
    "\n",
    "# compute the min/max row/col in the data grid\n",
    "min_row = np.argmin(np.abs(latitude - (min_lat)))\n",
    "max_row = np.argmin(np.abs(latitude - (max_lat)))\n",
    "min_col = np.argmin(np.abs(longitude - (min_lon)))\n",
    "max_col = np.argmin(np.abs(longitude - (max_lon)))"
   ]
  },
  {
   "cell_type": "markdown",
   "id": "35f9b5f8-b2be-44b0-a42b-c7d86f44b3f0",
   "metadata": {},
   "source": [
    "Use the row and column bounds to subset the longitude, latitude, and your variable:"
   ]
  },
  {
   "cell_type": "code",
   "execution_count": null,
   "id": "e4a7b948-6d09-4b04-acda-6cad49806179",
   "metadata": {},
   "outputs": [],
   "source": [
    "# subset the data\n",
    "SST_subset = SST[0,min_row:max_row,min_col:max_col]\n",
    "lon_subset = longitude[min_col:max_col]\n",
    "lat_subset = latitude[min_row:max_row]"
   ]
  },
  {
   "cell_type": "markdown",
   "id": "784c7eea-6a82-4602-89b8-34467bde564b",
   "metadata": {},
   "source": [
    "Finally, make a plot with your subsetted data. For the plot specification, you can use any colormap, data range, and format as you like.\n",
    "\n",
    "For my example, I find that the temperature plot looks nice with a figure size of (8,4), a turbo colormap, and a data range of 20-31. However, you are encouraged to format your plot to your tastes."
   ]
  },
  {
   "cell_type": "code",
   "execution_count": null,
   "id": "da628f1d-44de-45ec-9687-8d96927b3335",
   "metadata": {},
   "outputs": [],
   "source": [
    "# make your figure here\n",
    "# make a figure\n",
    "fig = plt.figure()\n",
    "C = plt.pcolormesh(lon_subset, lat_subset, SST_subset, vmin=20, vmax=31) \n",
    "# format the axes\n",
    "plt.ylabel('Latitude')\n",
    "plt.xlabel('Longitude')\n",
    "plt.title('Sea Surface Temperature')\n",
    "plt.colorbar(C, orientation='vertical',\n",
    "             label='Temperature (ºC)')\n",
    "\n",
    "# show the plot\n",
    "plt.show()"
   ]
  },
  {
   "cell_type": "markdown",
   "id": "ca263bf6-2a1a-4616-92ee-722538b98086",
   "metadata": {},
   "source": [
    "## Part 3: Formulate a Plotting Function\n",
    "When you are happy with your plot, make your code into a function that will take the year, month, and day as inputs, and output the figure into a given directory. "
   ]
  },
  {
   "cell_type": "code",
   "execution_count": null,
   "id": "4dad0a02-9c53-4e12-a03c-34a66f4a20c7",
   "metadata": {},
   "outputs": [],
   "source": [
    "frames_directory = '/Users/sofia/Documents/CS185C/Homework/Homework_3/frames_2'\n",
    "panel_list = []\n",
    "def plot_panel(year,month,day,):\n",
    "    # fill in your function here\n",
    "    data_folder = ('/Users/sofia/Documents/CS185C/Data')\n",
    "    str_year = str(year)\n",
    "    data_file = 'SST_'+str_year+'{:02d}'.format(month)+'{:02d}'.format(day)+'.nc'\n",
    "    ds = xr.open_dataset(data_folder+'/ECCO/Version5/Alpha/latlon_daily/SST.nc/'+data_file, decode_times=False)\n",
    "    longitude = np.array(ds['LONGITUDE_T'][:])\n",
    "    latitude = np.array(ds['LATITUDE_T'][:])\n",
    "    SST = np.array(ds['SST'][:])\n",
    "    ds.close()\n",
    "\n",
    "    SST_subset = SST[0,min_row:max_row,min_col:max_col]\n",
    "    lon_subset = longitude[min_col:max_col]\n",
    "    lat_subset = latitude[min_row:max_row]\n",
    "    fig = plt.figure()\n",
    "    C = plt.pcolormesh(lon_subset, lat_subset, SST_subset, vmin=20, vmax=31) \n",
    "    # format the axes\n",
    "    plt.ylabel('Latitude')\n",
    "    plt.xlabel('Longitude')\n",
    "    plt.title('Sea Surface Temperature')\n",
    "    plt.colorbar(C, orientation='vertical',\n",
    "                 label='Temperature (ºC)')\n",
    "    \n",
    "    # show the plot\n",
    "    image_file = os.path.join(frames_directory,\n",
    "                             'SST_'+str_year+'{:02d}'.format(month)+'{:02d}'.format(day)+'.png')\n",
    "    plt.savefig(image_file)\n",
    "    plt.close(fig)\n",
    "    panel_list.append(image_file)"
   ]
  },
  {
   "cell_type": "markdown",
   "id": "d287c1f2-7975-44e6-b50a-e0d3b26ae8b2",
   "metadata": {},
   "source": [
    "Once the function is complete, use it to loop through all of the data to make a plot for each day of the year. The following lines of code will form the panels of a data visualization movie when using daily data. If you are using monthly data, update accordingly:"
   ]
  },
  {
   "cell_type": "code",
   "execution_count": null,
   "id": "bfe71488-7663-4ef6-842b-c9352c3d9b8e",
   "metadata": {},
   "outputs": [],
   "source": [
    "\n",
    "# loop through the data and make a plot for each day\n",
    "year = 2015\n",
    "for month in range(1,13):\n",
    "    if month in [1,3,5,7,8,10,12]:\n",
    "        n_days = 31\n",
    "    elif month in [4,6,9,11]:\n",
    "        n_days = 30\n",
    "    else:\n",
    "        if year%4==0:\n",
    "            n_days = 29\n",
    "        else:\n",
    "            n_days = 28\n",
    "    for day in range(1,n_days+1):\n",
    "        plot_panel(year,month,day)\n",
    "        "
   ]
  },
  {
   "cell_type": "markdown",
   "id": "4f53df63-259a-4a66-9541-25e0e752cab4",
   "metadata": {},
   "source": [
    "## Part 4: Compile Panels into a Movie\n",
    "After creating all of the panels, stitch them together into a movie using moviepy:"
   ]
  },
  {
   "cell_type": "code",
   "execution_count": null,
   "id": "2360f110-1117-4828-b2c1-36fb7b60e832",
   "metadata": {},
   "outputs": [],
   "source": [
    "# make a list of files for each movie panel\n",
    "# sort the panels"
   ]
  },
  {
   "cell_type": "code",
   "execution_count": null,
   "id": "60725afd-d923-407c-b874-a02e13d73be6",
   "metadata": {},
   "outputs": [],
   "source": [
    "# set the frames per second\n",
    "fps=5\n",
    "\n",
    "# use the ImageSequenceClip module to set up the clip\n",
    "clip = moviepy.video.io.ImageSequenceClip.ImageSequenceClip(panel_list, fps=fps)\n",
    "\n",
    "# write the video to a file\n",
    "clip.write_videofile('Sea_Surface_Temperature.mp4')"
   ]
  },
  {
   "cell_type": "markdown",
   "id": "77157ebb-405b-4e72-b879-5e9bc41c9f63",
   "metadata": {},
   "source": [
    "## Part 5: Interpret Features in the Movie\n",
    "A movie gives a good visualization of the physical processes occurring in a model. Describe one feature you see in the movie and relate it to an oceanographic feature. It could be a feature discussed in class or another feature you noticed and researched on your own.\n",
    "\n",
    "Answer: The movie conveyed information about the pattern of temperature rising and falling throught the ocean at the given cooridinates. The region that was selected, spesifically shows parts of the pacific ocean both above and below the equator. The section of the equator that is contained with in the chosen plot, is distnct due the its straight path of warmer temperatures. Along with this, paths of water cooler temperatures can be seen moving along the coastline, both above and below the equator. Due to their circular motions, I believe they may be related to ocean gyres. The cooler temperatures that are slowly emerging at the bottom right corner of the plots could be due to currents moving cold water, near the southern pole, further north."
   ]
  }
 ],
 "metadata": {
  "kernelspec": {
   "display_name": "cs185c",
   "language": "python",
   "name": "cs185c"
  },
  "language_info": {
   "codemirror_mode": {
    "name": "ipython",
    "version": 3
   },
   "file_extension": ".py",
   "mimetype": "text/x-python",
   "name": "python",
   "nbconvert_exporter": "python",
   "pygments_lexer": "ipython3",
   "version": "3.11.9"
  }
 },
 "nbformat": 4,
 "nbformat_minor": 5
}
